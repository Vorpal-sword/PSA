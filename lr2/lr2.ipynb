{
 "cells": [
  {
   "cell_type": "markdown",
   "metadata": {},
   "source": [
    "📌 1. Формулювання гіпотез\n",
    "Нульова гіпотеза (H₀):\n",
    "Розподіл випадків депресії не залежить від кількості спожитої кофеїновмісної кави.\n",
    "\n",
    "Альтернативна гіпотеза (H₁):\n",
    "Розподіл випадків депресії залежить від кількості спожитої кофеїновмісної кави.\n"
   ]
  },
  {
   "cell_type": "markdown",
   "metadata": {},
   "source": [
    "📌 2. Завантаження бібліотек і введення даних\n"
   ]
  },
  {
   "cell_type": "code",
   "execution_count": 9,
   "metadata": {},
   "outputs": [
    {
     "data": {
      "text/html": [
       "<div>\n",
       "<style scoped>\n",
       "    .dataframe tbody tr th:only-of-type {\n",
       "        vertical-align: middle;\n",
       "    }\n",
       "\n",
       "    .dataframe tbody tr th {\n",
       "        vertical-align: top;\n",
       "    }\n",
       "\n",
       "    .dataframe thead th {\n",
       "        text-align: right;\n",
       "    }\n",
       "</style>\n",
       "<table border=\"1\" class=\"dataframe\">\n",
       "  <thead>\n",
       "    <tr style=\"text-align: right;\">\n",
       "      <th></th>\n",
       "      <th>&lt;=1 cup/week</th>\n",
       "      <th>2-6 cup/week</th>\n",
       "      <th>1 cup/day</th>\n",
       "      <th>2-3 cup/day</th>\n",
       "      <th>&gt;=4 cup/day</th>\n",
       "      <th>Total</th>\n",
       "    </tr>\n",
       "  </thead>\n",
       "  <tbody>\n",
       "    <tr>\n",
       "      <th>Depression (Yes)</th>\n",
       "      <td>670</td>\n",
       "      <td>373</td>\n",
       "      <td>905</td>\n",
       "      <td>564</td>\n",
       "      <td>95</td>\n",
       "      <td>2607</td>\n",
       "    </tr>\n",
       "    <tr>\n",
       "      <th>Depression (No)</th>\n",
       "      <td>11545</td>\n",
       "      <td>6244</td>\n",
       "      <td>16329</td>\n",
       "      <td>11726</td>\n",
       "      <td>2288</td>\n",
       "      <td>48132</td>\n",
       "    </tr>\n",
       "    <tr>\n",
       "      <th>Total</th>\n",
       "      <td>12215</td>\n",
       "      <td>6617</td>\n",
       "      <td>17234</td>\n",
       "      <td>12290</td>\n",
       "      <td>2383</td>\n",
       "      <td>50739</td>\n",
       "    </tr>\n",
       "  </tbody>\n",
       "</table>\n",
       "</div>"
      ],
      "text/plain": [
       "                  <=1 cup/week  2-6 cup/week  1 cup/day  2-3 cup/day  \\\n",
       "Depression (Yes)           670           373        905          564   \n",
       "Depression (No)          11545          6244      16329        11726   \n",
       "Total                    12215          6617      17234        12290   \n",
       "\n",
       "                  >=4 cup/day  Total  \n",
       "Depression (Yes)           95   2607  \n",
       "Depression (No)          2288  48132  \n",
       "Total                    2383  50739  "
      ]
     },
     "execution_count": 9,
     "metadata": {},
     "output_type": "execute_result"
    }
   ],
   "source": [
    "import numpy as np\n",
    "import pandas as pd\n",
    "import scipy.stats as stats\n",
    "\n",
    "# Таблиця з даними\n",
    "data = np.array([\n",
    "    [670, 373, 905, 564, 95],  # Так (депресія)\n",
    "    [11545, 6244, 16329, 11726, 2288]  # Ні (без депресії)\n",
    "])\n",
    "\n",
    "# Створюємо DataFrame\n",
    "columns = [\"<=1 cup/week\", \"2-6 cup/week\", \"1 cup/day\", \"2-3 cup/day\", \">=4 cup/day\"]\n",
    "rows = [\"Depression (Yes)\", \"Depression (No)\"]\n",
    "\n",
    "df = pd.DataFrame(data, index=rows, columns=columns)\n",
    "df.loc[\"Total\"] = df.sum(axis=0)  # Додаємо підсумковий рядок\n",
    "df[\"Total\"] = df.sum(axis=1)  # Додаємо підсумковий стовпець\n",
    "\n",
    "# Відображення таблиці\n",
    "df\n"
   ]
  },
  {
   "cell_type": "markdown",
   "metadata": {},
   "source": [
    "📌 3. Обчислення кількісних характеристик\n"
   ]
  },
  {
   "cell_type": "code",
   "execution_count": 10,
   "metadata": {},
   "outputs": [
    {
     "data": {
      "text/plain": [
       "<=1 cup/week    5.485059\n",
       "2-6 cup/week    5.636996\n",
       "1 cup/day       5.251248\n",
       "2-3 cup/day     4.589097\n",
       ">=4 cup/day     3.986572\n",
       "dtype: float64"
      ]
     },
     "execution_count": 10,
     "metadata": {},
     "output_type": "execute_result"
    }
   ],
   "source": [
    "# Обчислюємо відсоток жінок з депресією у кожній групі\n",
    "depression_rates = (df.loc[\"Depression (Yes)\"] / df.loc[\"Total\"]) * 100\n",
    "\n",
    "# Відображаємо\n",
    "depression_rates.drop(\"Total\")\n"
   ]
  },
  {
   "cell_type": "markdown",
   "metadata": {},
   "source": [
    "📌 4. Перевірка гіпотези за допомогою критерію χ² (хи-квадрат)\n",
    "🔹 Якщо p-value < 0.05, то ми відхиляємо H₀ і вважаємо, що є зв'язок між споживанням кави і депресією.\n",
    "🔹 Якщо p-value > 0.05, то не можемо відхилити H₀, тобто зв'язку не виявлено.\n"
   ]
  },
  {
   "cell_type": "code",
   "execution_count": 11,
   "metadata": {},
   "outputs": [
    {
     "name": "stdout",
     "output_type": "stream",
     "text": [
      "Chi-squared Statistic: 20.9316\n",
      "Degrees of Freedom: 4\n",
      "P-value: 0.0003\n"
     ]
    },
    {
     "data": {
      "text/html": [
       "<div>\n",
       "<style scoped>\n",
       "    .dataframe tbody tr th:only-of-type {\n",
       "        vertical-align: middle;\n",
       "    }\n",
       "\n",
       "    .dataframe tbody tr th {\n",
       "        vertical-align: top;\n",
       "    }\n",
       "\n",
       "    .dataframe thead th {\n",
       "        text-align: right;\n",
       "    }\n",
       "</style>\n",
       "<table border=\"1\" class=\"dataframe\">\n",
       "  <thead>\n",
       "    <tr style=\"text-align: right;\">\n",
       "      <th></th>\n",
       "      <th>&lt;=1 cup/week</th>\n",
       "      <th>2-6 cup/week</th>\n",
       "      <th>1 cup/day</th>\n",
       "      <th>2-3 cup/day</th>\n",
       "      <th>&gt;=4 cup/day</th>\n",
       "      <th>Total</th>\n",
       "    </tr>\n",
       "  </thead>\n",
       "  <tbody>\n",
       "    <tr>\n",
       "      <th>Depression (Yes)</th>\n",
       "      <td>670.00</td>\n",
       "      <td>373.00</td>\n",
       "      <td>905.00</td>\n",
       "      <td>564.00</td>\n",
       "      <td>95.00</td>\n",
       "      <td>2607.00</td>\n",
       "    </tr>\n",
       "    <tr>\n",
       "      <th>Depression (No)</th>\n",
       "      <td>11545.00</td>\n",
       "      <td>6244.00</td>\n",
       "      <td>16329.00</td>\n",
       "      <td>11726.00</td>\n",
       "      <td>2288.00</td>\n",
       "      <td>48132.00</td>\n",
       "    </tr>\n",
       "    <tr>\n",
       "      <th>Total</th>\n",
       "      <td>12215.00</td>\n",
       "      <td>6617.00</td>\n",
       "      <td>17234.00</td>\n",
       "      <td>12290.00</td>\n",
       "      <td>2383.00</td>\n",
       "      <td>50739.00</td>\n",
       "    </tr>\n",
       "    <tr>\n",
       "      <th>Depression (%)</th>\n",
       "      <td>5.49</td>\n",
       "      <td>5.64</td>\n",
       "      <td>5.25</td>\n",
       "      <td>4.59</td>\n",
       "      <td>3.99</td>\n",
       "      <td>5.14</td>\n",
       "    </tr>\n",
       "  </tbody>\n",
       "</table>\n",
       "</div>"
      ],
      "text/plain": [
       "                  <=1 cup/week  2-6 cup/week  1 cup/day  2-3 cup/day  \\\n",
       "Depression (Yes)        670.00        373.00     905.00       564.00   \n",
       "Depression (No)       11545.00       6244.00   16329.00     11726.00   \n",
       "Total                 12215.00       6617.00   17234.00     12290.00   \n",
       "Depression (%)            5.49          5.64       5.25         4.59   \n",
       "\n",
       "                  >=4 cup/day     Total  \n",
       "Depression (Yes)        95.00   2607.00  \n",
       "Depression (No)       2288.00  48132.00  \n",
       "Total                 2383.00  50739.00  \n",
       "Depression (%)           3.99      5.14  "
      ]
     },
     "execution_count": 11,
     "metadata": {},
     "output_type": "execute_result"
    }
   ],
   "source": [
    "# Виконуємо тест хі-квадрат\n",
    "chi2_stat, p_value, dof, expected = stats.chi2_contingency(data)\n",
    "\n",
    "# Вивід результатів\n",
    "print(f\"Chi-squared Statistic: {chi2_stat:.4f}\")\n",
    "print(f\"Degrees of Freedom: {dof}\")\n",
    "print(f\"P-value: {p_value:.4f}\")\n",
    "\n",
    "# Виведемо очікувані значення, якщо б депресія була рівномірно розподілена\n",
    "expected_df = pd.DataFrame(expected, index=rows, columns=columns)\n",
    "expected_df\n",
    "# Обчислюємо відсоток жінок із депресією у кожній групі\n",
    "percent_depressed = (df.loc[\"Depression (Yes)\"] / df.loc[\"Total\"]) * 100\n",
    "\n",
    "# Додаємо цей рядок у таблицю\n",
    "df.loc[\"Depression (%)\"] = percent_depressed.round(2)\n",
    "\n",
    "# Виводимо оновлену таблицю\n",
    "df\n",
    "\n"
   ]
  },
  {
   "cell_type": "code",
   "execution_count": null,
   "metadata": {},
   "outputs": [],
   "source": [
    "# Обчислюємо відсоток жінок з депресією в кожній групі споживання кави\n",
    "percent_depressed = (df.loc[\"Depression (Yes)\"] / df.loc[\"Total\"]) * 100\n",
    "\n",
    "# Відображаємо відсотки (округлено до 2 знаків після коми)\n",
    "percent_depressed.drop(\"Total\").round(2)\n",
    "\n",
    "# Обчислимо очікуваний відсоток депресії, якщо б розподіл був рівномірним\n",
    "expected_percent_depressed = (expected_df.loc[\"Depression (Yes)\"] / df.loc[\"Total\"]) * 100\n",
    "\n",
    "# Відображаємо очікувані відсотки\n",
    "expected_percent_depressed.drop(\"Total\").round(2)\n",
    "\n",
    "import matplotlib.pyplot as plt\n",
    "\n",
    "# Побудова графіку реальних vs очікуваних відсотків депресії\n",
    "plt.figure(figsize=(8,5))\n",
    "plt.bar(columns, percent_depressed.drop(\"Total\"), label=\"Observed (%)\", alpha=0.7)\n",
    "plt.bar(columns, expected_percent_depressed.drop(\"Total\"), label=\"Expected (%)\", alpha=0.7)\n",
    "plt.xlabel(\"Кількість чашок кави на день\")\n",
    "plt.ylabel(\"Відсоток депресії\")\n",
    "plt.title(\"Реальні vs Очікувані відсотки депресії\")\n",
    "plt.legend()\n",
    "plt.show()\n"
   ]
  },
  {
   "cell_type": "markdown",
   "metadata": {},
   "source": [
    "📌 5. Висновки\n",
    "Якщо p-value < 0.05, це свідчить про статистично значущий зв’язок між вживанням кави і рівнем депресії.\n",
    "Однак, навіть якщо зв’язок є, це не означає, що кава ВПЛИВАЄ на депресію. Це може бути кореляція, а не причинно-наслідковий зв’язок.\n"
   ]
  },
  {
   "cell_type": "markdown",
   "metadata": {},
   "source": [
    "📌 6. Чи погоджуємося з твердженням NYTimes?\n",
    "Так, твердження \"занадто рано рекомендувати жінкам вживати додаткову каву\" є коректним, тому що:\n",
    "✅ Кореляція ≠ Причинність → Хоча є зв’язок, це не означає, що кава зменшує ризик депресії.\n",
    "✅ Можливі інші фактори → Наприклад, жінки, які п'ють більше кави, можуть мати інші звички, які впливають на рівень депресії.\n",
    "✅ Необхідні додаткові дослідження → Потрібні експериментальні дослідження, а не лише спостереження.\n",
    "\n",
    "Висновок: Ми можемо знайти статистичний зв'язок, але цього недостатньо для рекомендацій щодо вживання кави. 🚀\n"
   ]
  }
 ],
 "metadata": {
  "kernelspec": {
   "display_name": "Python 3",
   "language": "python",
   "name": "python3"
  },
  "language_info": {
   "codemirror_mode": {
    "name": "ipython",
    "version": 3
   },
   "file_extension": ".py",
   "mimetype": "text/x-python",
   "name": "python",
   "nbconvert_exporter": "python",
   "pygments_lexer": "ipython3",
   "version": "3.11.5"
  }
 },
 "nbformat": 4,
 "nbformat_minor": 2
}
